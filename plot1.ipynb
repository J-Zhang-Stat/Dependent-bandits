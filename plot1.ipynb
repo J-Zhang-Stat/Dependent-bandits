{
 "cells": [
  {
   "cell_type": "markdown",
   "metadata": {},
   "source": [
    "# Plot CK-UCB Experiment Results\n",
    "\n",
    "This notebook loads a pickle file containing experiment results and plots cumulative regret with confidence intervals."
   ]
  },
  {
   "cell_type": "code",
   "execution_count": null,
   "metadata": {},
   "outputs": [],
   "source": [
    "import pickle\n",
    "import numpy as np\n",
    "import matplotlib.pyplot as plt\n",
    "import os\n",
    "\n",
    "from experiments.utils import stats"
   ]
  },
  {
   "cell_type": "code",
   "execution_count": 5,
   "id": "0a0b48f5",
   "metadata": {},
   "outputs": [
    {
     "data": {
      "text/plain": [
       "dict_keys(['ucb', 'oracle', 'ck-ucb'])"
      ]
     },
     "execution_count": 5,
     "metadata": {},
     "output_type": "execute_result"
    }
   ],
   "source": [
    "\n",
    "# Path to your results file\n",
    "pickle_path = 'runs/ckucb_3.3c1/20250721_154610/results.pkl'  # <-- change this to your actual file path\n",
    "\n",
    "try:\n",
    "    with open(pickle_path, 'rb') as f:\n",
    "        results = pickle.load(f)\n",
    "except FileNotFoundError:\n",
    "    '''print(f\"File {pickle_path} not found. Generating dummy results for demonstration.\")\n",
    "    T = 100\n",
    "    x = np.arange(1, T+1)\n",
    "    results = {\n",
    "        'ucb': (x*0.1, x*0.1+0.05, x*0.1-0.05),\n",
    "        'oracle': (x*0.05, x*0.05+0.03, x*0.05-0.03),\n",
    "        'ck-ucb': (x*0.08, x*0.08+0.04, x*0.08-0.04),\n",
    "    }'''\n",
    "    print(f\"File {pickle_path} not found. Please check the path and try again.\")\n",
    "\n",
    "results.keys()"
   ]
  },
  {
   "cell_type": "code",
   "execution_count": null,
   "id": "176297a7",
   "metadata": {},
   "outputs": [
    {
     "ename": "ValueError",
     "evalue": "too many values to unpack (expected 3)",
     "output_type": "error",
     "traceback": [
      "\u001b[0;31m---------------------------------------------------------------------------\u001b[0m",
      "\u001b[0;31mValueError\u001b[0m                                Traceback (most recent call last)",
      "Cell \u001b[0;32mIn[3], line 22\u001b[0m\n\u001b[1;32m     19\u001b[0m     plt\u001b[38;5;241m.\u001b[39mtight_layout()\n\u001b[1;32m     20\u001b[0m     plt\u001b[38;5;241m.\u001b[39mshow()\n\u001b[0;32m---> 22\u001b[0m plot_results(results)\n",
      "Cell \u001b[0;32mIn[3], line 2\u001b[0m, in \u001b[0;36mplot_results\u001b[0;34m(results)\u001b[0m\n\u001b[1;32m      1\u001b[0m \u001b[38;5;28;01mdef\u001b[39;00m \u001b[38;5;21mplot_results\u001b[39m(results):\n\u001b[0;32m----> 2\u001b[0m     avg_ucb, ub_ucb, lb_ucb \u001b[38;5;241m=\u001b[39m results[\u001b[38;5;124m'\u001b[39m\u001b[38;5;124mucb\u001b[39m\u001b[38;5;124m'\u001b[39m]\n\u001b[1;32m      3\u001b[0m     avg_oracle, ub_oracle, lb_oracle \u001b[38;5;241m=\u001b[39m results[\u001b[38;5;124m'\u001b[39m\u001b[38;5;124moracle\u001b[39m\u001b[38;5;124m'\u001b[39m]\n\u001b[1;32m      4\u001b[0m     avg_ck, ub_ck, lb_ck \u001b[38;5;241m=\u001b[39m results[\u001b[38;5;124m'\u001b[39m\u001b[38;5;124mck-ucb\u001b[39m\u001b[38;5;124m'\u001b[39m]\n",
      "\u001b[0;31mValueError\u001b[0m: too many values to unpack (expected 3)"
     ]
    }
   ],
   "source": [
    "def plot_results(results):\n",
    "    avg_ucb, ub_ucb, lb_ucb = stats(results['ucb'])\n",
    "    avg_oracle, ub_oracle, lb_oracle = stats(results['oracle'])\n",
    "    avg_ck, ub_ck, lb_ck = stats(results['ck-ucb'])\n",
    "    T = len(avg_ucb)\n",
    "    x = np.arange(1, T+1)\n",
    "\n",
    "    plt.figure(figsize=(8,5))\n",
    "    plt.plot(x, avg_ucb, label='Standard UCB')\n",
    "    plt.fill_between(x, lb_ucb, ub_ucb, alpha=0.15)\n",
    "    plt.plot(x, avg_oracle, label='Oracle UCB')\n",
    "    plt.fill_between(x, lb_oracle, ub_oracle, alpha=0.15)\n",
    "    plt.plot(x, avg_ck, label='CK-UCB')\n",
    "    plt.fill_between(x, lb_ck, ub_ck, alpha=0.15)\n",
    "    plt.xlabel('Time')\n",
    "    plt.ylabel('Cumulative Regret')\n",
    "    plt.title('Cumulative Regret Comparison')\n",
    "    plt.legend()\n",
    "    plt.tight_layout()\n",
    "    plt.show()\n",
    "\n",
    "plot_results(results)"
   ]
  },
  {
   "cell_type": "code",
   "execution_count": null,
   "id": "75bcc7fb",
   "metadata": {},
   "outputs": [],
   "source": []
  }
 ],
 "metadata": {
  "kernelspec": {
   "display_name": "base",
   "language": "python",
   "name": "python3"
  },
  "language_info": {
   "codemirror_mode": {
    "name": "ipython",
    "version": 3
   },
   "file_extension": ".py",
   "mimetype": "text/x-python",
   "name": "python",
   "nbconvert_exporter": "python",
   "pygments_lexer": "ipython3",
   "version": "3.12.2"
  }
 },
 "nbformat": 4,
 "nbformat_minor": 5
}
